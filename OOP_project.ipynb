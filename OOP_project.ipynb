{
 "cells": [
  {
   "cell_type": "markdown",
   "metadata": {},
   "source": [
    "Финальный Проект\n",
    "---"
   ]
  },
  {
   "cell_type": "markdown",
   "metadata": {},
   "source": [
    "Пожалуйста, создайте пакет **education**, который содержит следующие модули:\n",
    "\n",
    "1. users\n",
    "2. organizations\n",
    "\n",
    "Когда вы запускаете пакет напрямую, он должен показывать все модули, указанные в пакете."
   ]
  },
  {
   "cell_type": "markdown",
   "metadata": {},
   "source": [
    "## Описание модулей приведено ниже:"
   ]
  },
  {
   "cell_type": "markdown",
   "metadata": {},
   "source": [
    "### Модуль **users** должен содержать классы **Human, Student(Human), Teacher(Human)**.\n",
    "\n",
    "1. Класс **Human** должен содержать следующую информацию: имя, фамилию, возраст, пол, национальность, а также способы задания этой информации.\n",
    " \n",
    ">``` \n",
    "> h1 = Human(name=\"John\", familyname=\"Wick\", age=35, gender=\"male\", nationality=\"USA\")\n",
    "> ``` \n",
    "\n",
    "Список методов:\n",
    "> ```\n",
    "set_name()\n",
    "set_family()\n",
    "set_age()\n",
    "set_gender()\n",
    "set_nationality()\n",
    "get_info() # возвращает словарь с личной информацией об объекте\n",
    "> ```\n",
    "\n",
    "2. Класс **Student** - это детский класс класса Human. Он должен содержать следующую информацию о каждом студенте: имя, фамилия, возраст, пол, национальность, название школы или университета, список предметов и соответствующие методы для установки этой информации.\n",
    "\n",
    "\n",
    "Список методов в дополнение к списку методов из родительского класса Human:\n",
    "> ```\n",
    "set_school()\n",
    "add_subject() # добавить предмет в список предметов\n",
    "> ```\n",
    "\n",
    "\n",
    "3. Класс **Teacher** - это детский класс класса Human. Он должен содержать следующую информацию о каждом преподавателе: имя, фамилия, возраст, пол, национальность, название школы или университета, предмет преподавания и соответствующие методы для установки этой информации.\n",
    "\n",
    "Список методов в дополнение к списку методов из родительского класса Human:\n",
    "> ```\n",
    "set_school()\n",
    "add_subject() # добавить предмет преподаваемый учителем\n",
    "> ```\n",
    "\n",
    "* При непосредственном запуске модуля **users** напрямую должен отображаться список классов, а также списки методов соответствующих классов, приведенных в модуле.\n",
    "\n",
    "* Когда вы импортируете модуль, он должен показать, что модуль был успешно импортирован.\n",
    "\n",
    "---"
   ]
  },
  {
   "cell_type": "markdown",
   "metadata": {},
   "source": [
    "### Модуль **organizations** должен содержать класс **School**.\n",
    "\n",
    "Класс **School** должен содержать следующую информацию: название или номер школы, адрес школы, номер телефона школы, электронный адрес учебного заведения, количество учеников, количество учителей, а также способы задания этой информации.\n",
    " \n",
    " \n",
    ">``` \n",
    "> s1 = School(name=\"NIS\", address=\"Astana, Kazakhstan\", phone=\"999999\", num_stud=1000, num_teachers=50)\n",
    "> ``` \n",
    "\n",
    "Список методов:\n",
    "> ```\n",
    "set_name()\n",
    "set_address()\n",
    "set_phone()\n",
    "set_email()\n",
    "set_num_stud()\n",
    "set_num_teachers()\n",
    "add_student()\n",
    "add_teacher()\n",
    "get_info() # возвращает словарь с информацией про школу без личной информации студентов / преподавателей\n",
    "get_report() # создает отчет (файл \"csv\") с информацией о школе и о каждом ученике, а также о преподавателе в этой школе. \n",
    "> ```\n",
    "\n",
    "**Пожалуйста, сделайте правильный формат файла CSV (который вы считаете наиболее понятным)**\n",
    "\n",
    "* При непосредственном запуске модуля **organizations** напрямую должен отображаться список классов, а также списки методов соответствующих классов, приведенных в модуле.\n",
    "\n",
    "* Когда вы импортируете модуль, он должен показать, что модуль был успешно импортирован.\n",
    "\n",
    "---"
   ]
  },
  {
   "cell_type": "markdown",
   "metadata": {},
   "source": [
    "### Что делать в jupyter notebook?\n",
    "\n",
    "В этом jupyter notebook, пожалуйста, проверьте все функциональные возможности вашего пакета. Как минимум создайте 2-3 школы, в каждой школе должно быть не менее 10 учеников (с разной информацией), а также как минимум 2 учителя разных предметов и личной информации. **Личная информация этих учеников, учителей и школ не должна быть правдивой (просто выдумайте).**\n",
    "\n",
    "**Пожалуйста, заархивируйте пакет и данный jupyter notebook вместе и отправьте архивный файл.**"
   ]
  },
  {
   "cell_type": "code",
   "execution_count": 1,
   "metadata": {},
   "outputs": [
    {
     "name": "stdout",
     "output_type": "stream",
     "text": [
      "Users module successfully imported\n"
     ]
    }
   ],
   "source": [
    "# Ваш код:\n",
    "from education.users import * "
   ]
  },
  {
   "cell_type": "code",
   "execution_count": 2,
   "metadata": {},
   "outputs": [
    {
     "name": "stdout",
     "output_type": "stream",
     "text": [
      "Organizations module successfully imported\n",
      "Users module successfully imported\n"
     ]
    }
   ],
   "source": [
    "from education.organizations import *"
   ]
  },
  {
   "cell_type": "code",
   "execution_count": 3,
   "metadata": {},
   "outputs": [
    {
     "name": "stdout",
     "output_type": "stream",
     "text": [
      "<users.Human object at 0x0000028074113D30>\n"
     ]
    }
   ],
   "source": [
    "h1 = Human(name=\"John\", familyname=\"Wick\", age=35, gender=\"Male\", nationality=\"USA\")\n",
    "print(h1)"
   ]
  },
  {
   "cell_type": "code",
   "execution_count": 4,
   "metadata": {},
   "outputs": [
    {
     "name": "stdout",
     "output_type": "stream",
     "text": [
      "{'name': 'John', 'familyname': 'Wick', 'age': 35, 'gender': 'Male', 'nationality': 'USA'}\n"
     ]
    }
   ],
   "source": [
    "print(h1.get_info()) # выведем словарь с данными человека"
   ]
  },
  {
   "cell_type": "code",
   "execution_count": 5,
   "metadata": {},
   "outputs": [],
   "source": [
    "# изменим данные человека\n",
    "h1.set_name(name=\"Sergey\")\n",
    "h1.set_family(familyname=\"Kalinovskiy\")\n",
    "h1.set_age(age=22)\n",
    "h1.set_gender(gender=\"Male\")\n",
    "h1.set_nationality(nationality=\"Russian\")"
   ]
  },
  {
   "cell_type": "code",
   "execution_count": 6,
   "metadata": {},
   "outputs": [
    {
     "name": "stdout",
     "output_type": "stream",
     "text": [
      "{'name': 'Sergey', 'familyname': 'Kalinovskiy', 'age': 22, 'gender': 'Male', 'nationality': 'Russian'}\n"
     ]
    }
   ],
   "source": [
    "print(h1.get_info()) # выведем словарь с измененными данными человека"
   ]
  },
  {
   "cell_type": "code",
   "execution_count": 7,
   "metadata": {},
   "outputs": [
    {
     "name": "stdout",
     "output_type": "stream",
     "text": [
      "{'name': 'School_N1', 'address': 'Astana, Kazakhstan', 'phone': '894110', 'email': 'school_N1AST@mail.ru', 'num_stud': 989, 'num_teachers': 66}\n"
     ]
    }
   ],
   "source": [
    "# создадим школу\n",
    "s1 = School(name = \"School_N1\", address = \"Astana, Kazakhstan\", phone = \"894110\", email = \"school_N1AST@mail.ru\", num_stud = 989, num_teachers = 66)\n",
    "print(s1.get_info()) # выведем информацию о школе"
   ]
  },
  {
   "cell_type": "code",
   "execution_count": 8,
   "metadata": {},
   "outputs": [],
   "source": [
    "# изменим информацию о школе\n"
   ]
  },
  {
   "cell_type": "code",
   "execution_count": 9,
   "metadata": {},
   "outputs": [
    {
     "name": "stdout",
     "output_type": "stream",
     "text": [
      "{'name': 'School_N1', 'address': 'Astana, Kazakhstan', 'phone': '894110', 'email': 'school_N1AST@mail.ru', 'num_stud': 989, 'num_teachers': 66}\n"
     ]
    }
   ],
   "source": [
    "print(s1.get_info()) # выведем измененную информацию о школе"
   ]
  },
  {
   "cell_type": "code",
   "execution_count": 10,
   "metadata": {},
   "outputs": [],
   "source": [
    "# создадим School_N9 и добавим в нее учеников\n",
    "School1 = School(\"School_N9\", \"Astana, Kazakhstan\", \"123456\", \"school_N9AST@mail.ru\", 915, 51)\n",
    "Student1 = Student(\"Alina\", \"Glebovich\", 18, \"Female\", \"Belarusian\", \"School_N9\", \"Biology\")\n",
    "Student2 = Student(\"Nancy\", \"Duncan\", 14, \"Female\", \"Russian\", \"School_N9\", \"Biology\")\n",
    "Student3 = Student(\"Adrian\", \"Miller\", 16, \"Male\", \"American\", \"School_N9\", \"Geography\")\n",
    "Student4 = Student(\"Set\", \"Albertson\", 15, \"Male\", \"American\", \"School_N9\", \"Geography\")\n",
    "Student5 = Student(\"Andrey\", \"Ignatov\", 16, \"Male\", \"Russian\", \"School_N9\", \"Biology\")\n",
    "Student6 = Student(\"Snezhana\", \"Korotkova\", 17, \"Female\", \"Russian\", \"School_N9\", \"Maths\")\n",
    "Student7 = Student(\"Kapan\", \"Ruslanev\", 18, \"Male\", \"Kazakh\", \"School_N9\", \"Geography\")\n",
    "Student8 = Student(\"Ivan\", \"Ivanov\", 15, \"Male\", \"Russian\", \"School_N9\", \"Biology\")\n",
    "Student9 = Student(\"Bekzat\", \"Akhmetov\", 13, \"Male\", \"Kazakh\", \"School_N9\", \"Maths\")\n",
    "Student10 = Student(\"Elena\", \"Ivanova\", 17, \"Female\", \"Russian\", \"School_N9\", \"Geography\")\n",
    "School1.add_student(Student1)\n",
    "School1.add_student(Student2)\n",
    "School1.add_student(Student3)\n",
    "School1.add_student(Student4)\n",
    "School1.add_student(Student5)\n",
    "School1.add_student(Student6)\n",
    "School1.add_student(Student7)\n",
    "School1.add_student(Student8)\n",
    "School1.add_student(Student9)\n",
    "School1.add_student(Student10)\n"
   ]
  },
  {
   "cell_type": "code",
   "execution_count": 11,
   "metadata": {},
   "outputs": [],
   "source": [
    "# добавим учителей в School_N9\n",
    "Teacher1 = Teacher(\"Azamat\", \"Nurgaliev\", 32, \"Male\", \"Kazakh\", \"School_N9\", \"Biology\")\n",
    "Teacher2 = Teacher(\"Margarita\", \"Shiryaeva\", 41, \"Female\", \"Russian\", \"School_N9\", \"Geography\")\n",
    "Teacher3 = Teacher(\"Candice\", \"Scott\", 25, \"Female\", \"American\", \"School_N9\", \"Maths\")\n",
    "School1.add_teacher(Teacher1)\n",
    "School1.add_teacher(Teacher2)\n",
    "School1.add_teacher(Teacher3)\n",
    "\n"
   ]
  },
  {
   "cell_type": "code",
   "execution_count": 12,
   "metadata": {},
   "outputs": [
    {
     "name": "stdout",
     "output_type": "stream",
     "text": [
      "{'name': 'Alina', 'familyname': 'Kirsakova', 'age': 18, 'gender': 'Female', 'nationality': 'Belarusian', 'school': 'School_N9', 'subject': ['Biology']}\n"
     ]
    }
   ],
   "source": [
    "Student1.set_family(familyname=\"Kirsakova\") # мы можем изменить любую информацию студента и соответственно \n",
    "#она поменяется в csv-файле после вызова get_report()\n",
    "print(Student1.get_info_student()) # выведем информацию о студенте"
   ]
  },
  {
   "cell_type": "code",
   "execution_count": 13,
   "metadata": {},
   "outputs": [
    {
     "name": "stdout",
     "output_type": "stream",
     "text": [
      "{'name': 'Alina', 'familyname': 'Kirsakova', 'age': 18, 'gender': 'Female', 'nationality': 'Belarusian', 'school': 'School_N9', 'subject': ['Biology', 'Maths']}\n"
     ]
    }
   ],
   "source": [
    "Student1.add_subject(\"Maths\") # добавим студенту математику \n",
    "print(Student1.get_info_student())"
   ]
  },
  {
   "cell_type": "code",
   "execution_count": 14,
   "metadata": {},
   "outputs": [],
   "source": [
    "# Также мы можем изменить данные о школе, к примеру изменим School_N9\n",
    "School1.set_email(email=\"sch9AST@mail.ru\")\n",
    "School1.set_num_stud(num_stud=1003)\n",
    "School1.set_num_teachers(num_teachers=77)"
   ]
  },
  {
   "cell_type": "code",
   "execution_count": 15,
   "metadata": {},
   "outputs": [
    {
     "name": "stdout",
     "output_type": "stream",
     "text": [
      "{'name': 'Azamat', 'familyname': 'Nurgaliev', 'age': 32, 'gender': 'Male', 'nationality': 'Kazakh', 'school': 'School_N9', 'subject': ['Biology']}\n"
     ]
    }
   ],
   "source": [
    "# Добавим Teacher1 еще один предмет \n",
    "print(Teacher1.get_info_teacher()) # сначала посмотрим изначальную информацию об учителе\n",
    "Teacher1.add_subject(\"Maths\") # добавим математику уителю \n"
   ]
  },
  {
   "cell_type": "code",
   "execution_count": 16,
   "metadata": {},
   "outputs": [
    {
     "name": "stdout",
     "output_type": "stream",
     "text": [
      "{'name': 'Azamat', 'familyname': 'Nurgaliev', 'age': 32, 'gender': 'Male', 'nationality': 'Kazakh', 'school': 'School_N9', 'subject': ['Biology', 'Maths']}\n"
     ]
    }
   ],
   "source": [
    "# выведем измененную информацию Teacher1\n",
    "print(Teacher1.get_info_teacher()) "
   ]
  },
  {
   "cell_type": "code",
   "execution_count": 17,
   "metadata": {
    "scrolled": true
   },
   "outputs": [],
   "source": [
    "School1.get_report()"
   ]
  },
  {
   "cell_type": "code",
   "execution_count": 18,
   "metadata": {},
   "outputs": [],
   "source": [
    "# создадим School_N10 и добавим в нее учеников \n",
    "School2 = School(\"School_N10\", \"Astana, Kazakhstan\", \"987654\", \"school_N10AST@mail.ru\", 1001, 59) \n",
    "Student11 = Student(\"Iliyas\", \"Magjanev\", 14, \"Male\", \"Kazakh\", \"School_N10\", \"Biology\")\n",
    "Student12 = Student(\"Yermek\", \"Amanetev\", 18, \"Male\", \"Kazakh\", \"School_N10\", \"Maths\")\n",
    "Student13 = Student(\"Irina\", \"Losteva\", 16, \"Female\", \"Russian\", \"School_N10\", \"Geography\")\n",
    "Student14 = Student(\"Blak\", \"Scott\", 17, \"Male\", \"American\", \"School_N10\", \"Biology\")\n",
    "Student15 = Student(\"Ronda\", \"Haig\", 17, \"Female\", \"American\", \"School_N10\", \"Maths\")\n",
    "Student16 = Student(\"Lewis\", \"Hall\", 14, \"Male\", \"American\", \"School_N10\", \"Biology\")\n",
    "Student17 = Student(\"Amanet\", \"Medetev\", 16, \"Male\", \"Kazakh\", \"School_N10\", \"Geography\")\n",
    "Student18 = Student(\"Anton\", \"Zapadnenko\", 16, \"Male\", \"Ukrainian\", \"School_N10\", \"Biology\")\n",
    "Student19 = Student(\"Aygerim\", \"Omarova\", 18, \"Female\", \"Kazakh\", \"School_N10\", \"Maths\")\n",
    "Student20 = Student(\"Dinara\", \"Ospanova\", 17, \"Female\", \"Kazakh\", \"School_N10\", \"Geography\")\n",
    "School2.add_student(Student11)\n",
    "School2.add_student(Student12)\n",
    "School2.add_student(Student13)\n",
    "School2.add_student(Student14)\n",
    "School2.add_student(Student15)\n",
    "School2.add_student(Student16)\n",
    "School2.add_student(Student17)\n",
    "School2.add_student(Student18)\n",
    "School2.add_student(Student19)\n",
    "School2.add_student(Student20)"
   ]
  },
  {
   "cell_type": "code",
   "execution_count": 19,
   "metadata": {},
   "outputs": [],
   "source": [
    "# добавим учителей в School_N10\n",
    "Teacher4 = Teacher(\"Nataliya\", \"Golub\", 39, \"Female\", \"Belarusian\", \"School_N10\", \"Maths\")\n",
    "Teacher5 = Teacher(\"Alfia\", \"Alibekova\", 31, \"Female\", \"Kazakh\", \"School_N10\", \"Biology\")\n",
    "Teacher6 = Teacher(\"Balbike\", \"Ayateva\", 29, \"Female\", \"Kazakh\", \"School_N10\", \"Geography\")\n",
    "School2.add_teacher(Teacher4)\n",
    "School2.add_teacher(Teacher5)\n",
    "School2.add_teacher(Teacher6)\n",
    "\n"
   ]
  },
  {
   "cell_type": "code",
   "execution_count": 20,
   "metadata": {},
   "outputs": [],
   "source": [
    "School2.get_report()"
   ]
  },
  {
   "cell_type": "code",
   "execution_count": 21,
   "metadata": {},
   "outputs": [],
   "source": [
    "# создадим School_N19 и добавим в нее учеников\n",
    "School3 = School(\"School_N19\", \"Astana, Kazakhstan\", \"546234\", \"school_N19AST@mail.ru\", 899, 45)\n",
    "Student21 = Student(\"Polina\", \"Krasovskaya\", 18, \"Female\", \"Pole\", \"School_N19\", \"Maths\")\n",
    "Student22 = Student(\"Didar\", \"Bekbolatova\", 14, \"Female\", \"Kazakh\", \"School_N19\", \"Maths\")\n",
    "Student23 = Student(\"Sabira\", \"Serikeva\", 15, \"Female\", \"Kazakh\", \"School_N19\", \"Biology\")\n",
    "Student24 = Student(\"Balbike\", \"Ayateva\", 16, \"Female\", \"Kazakh\", \"School_N19\", \"Maths\")\n",
    "Student25 = Student(\"Samuel\", \"Galbraith\", 18, \"Male\", \"American\", \"School_N19\", \"Biology\")\n",
    "Student26 = Student(\"Kate\", \"Jackson\", 15, \"Female\", \"American\", \"School_N19\", \"Maths\")\n",
    "Student27 = Student(\"Ruslan\", \"Kozyrev\", 14, \"Male\", \"Russian\", \"School_N19\", \"Geography\")\n",
    "Student28 = Student(\"Boris\", \"Zhuravlev\", 18, \"Male\", \"Russian\", \"School_N19\", \"Maths\")\n",
    "Student29 = Student(\"Akhmet\", \"Ospanov\", 18, \"Male\", \"Kazakh\", \"School_N19\", \"Biology\")\n",
    "Student30 = Student(\"Zhuldyz\", \"Alieva\", 18, \"Female\", \"Kazakh\", \"School_N19\", \"Biology\")\n",
    "School3.add_student(Student21)\n",
    "School3.add_student(Student22)\n",
    "School3.add_student(Student23)\n",
    "School3.add_student(Student24)\n",
    "School3.add_student(Student25)\n",
    "School3.add_student(Student26)\n",
    "School3.add_student(Student27)\n",
    "School3.add_student(Student28)\n",
    "School3.add_student(Student29)\n",
    "School3.add_student(Student30)"
   ]
  },
  {
   "cell_type": "code",
   "execution_count": 22,
   "metadata": {},
   "outputs": [],
   "source": [
    "# добавим учителей в School_N19\n",
    "Teacher7 = Teacher(\"Daniyar\", \"Suleymenov\", 29, \"Male\", \"Kazakh\", \"School_N19\", \"Geography\")\n",
    "Teacher8 = Teacher(\"Georgy\", \"Malinin\", 26, \"Male\", \"Russian\", \"School_N19\", \"Maths\")\n",
    "Teacher9 = Teacher(\"Alexandra\", \"Safonova\", 37, \"Female\", \"Russian\", \"School_N19\", \"Biology\")\n",
    "School3.add_teacher(Teacher7)\n",
    "School3.add_teacher(Teacher8)\n",
    "School3.add_teacher(Teacher9)"
   ]
  },
  {
   "cell_type": "code",
   "execution_count": 23,
   "metadata": {},
   "outputs": [],
   "source": [
    "School3.get_report()"
   ]
  },
  {
   "cell_type": "code",
   "execution_count": null,
   "metadata": {},
   "outputs": [],
   "source": []
  }
 ],
 "metadata": {
  "kernelspec": {
   "display_name": "Python 3 (ipykernel)",
   "language": "python",
   "name": "python3"
  },
  "language_info": {
   "codemirror_mode": {
    "name": "ipython",
    "version": 3
   },
   "file_extension": ".py",
   "mimetype": "text/x-python",
   "name": "python",
   "nbconvert_exporter": "python",
   "pygments_lexer": "ipython3",
   "version": "3.9.13"
  }
 },
 "nbformat": 4,
 "nbformat_minor": 2
}
